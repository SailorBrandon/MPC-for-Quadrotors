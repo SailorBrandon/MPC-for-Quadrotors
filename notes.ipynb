{
 "cells": [
  {
   "cell_type": "code",
   "execution_count": 1,
   "metadata": {},
   "outputs": [],
   "source": [
    "import control\n",
    "import numpy as np\n",
    "import numpy.linalg as LA"
   ]
  },
  {
   "cell_type": "code",
   "execution_count": 3,
   "metadata": {},
   "outputs": [],
   "source": [
    "g = 9.81\n",
    "mass = 0.030\n",
    "Ixx = 1.43e-5\n",
    "Iyy = 1.43e-5\n",
    "Izz = 2.89e-5\n",
    "Ac = np.array([[0, 0, 0, 1, 0, 0, 0, 0, 0, 0, 0, 0],\n",
    "                [0, 0, 0, 0, 1, 0, 0, 0, 0, 0, 0, 0],\n",
    "                [0, 0, 0, 0, 0, 1, 0, 0, 0, 0, 0, 0],\n",
    "                [0, 0, 0, 0, 0, 0, 0, g, 0, 0, 0, 0],\n",
    "                [0, 0, 0, 0, 0, 0, (-g), 0, 0, 0, 0, 0],\n",
    "                [0, 0, 0, 0, 0, 0, 0, 0, 0, 0, 0, 0],\n",
    "                [0, 0, 0, 0, 0, 0, 0, 0, 0, 1, 0, 0],\n",
    "                [0, 0, 0, 0, 0, 0, 0, 0, 0, 0, 1, 0],\n",
    "                [0, 0, 0, 0, 0, 0, 0, 0, 0, 0, 0, 1],\n",
    "                [0, 0, 0, 0, 0, 0, 0, 0, 0, 0, 0, 0],\n",
    "                [0, 0, 0, 0, 0, 0, 0, 0, 0, 0, 0, 0],\n",
    "                [0, 0, 0, 0, 0, 0, 0, 0, 0, 0, 0, 0], ])\n",
    "Bc = np.array([[0, 0, 0, 0],\n",
    "                [0, 0, 0, 0],\n",
    "                [0, 0, 0, 0],\n",
    "                [0, 0, 0, 0],\n",
    "                [0, 0, 0, 0],\n",
    "                [1/mass, 0, 0, 0],\n",
    "                [0, 0, 0, 0],\n",
    "                [0, 0, 0, 0],\n",
    "                [0, 0, 0, 0],\n",
    "                [0, 1/Ixx, 0, 0],\n",
    "                [0, 0, 1/Iyy, 0],\n",
    "                [0, 0, 0, 1/Izz]])\n",
    "\n",
    "C_obs = np.zeros((12, 12))\n",
    "C_obs[:3, :3] = np.eye(3)\n",
    "C_obs[6:9, 6:9] = np.eye(3)\n",
    "\n",
    "Cc = C_obs\n",
    "Dc = np.zeros((12, 4))\n",
    "sysc = control.ss(Ac, Bc, Cc, Dc)\n",
    "# Discretization\n",
    "dt = 0.02\n",
    "sysd = control.sample_system(sysc, dt, method='bilinear')\n",
    "Ad, Bd, Cd =  sysd.A, sysd.B, sysd.C"
   ]
  },
  {
   "cell_type": "code",
   "execution_count": 4,
   "metadata": {},
   "outputs": [],
   "source": [
    "class Dist_Observer:\n",
    "    def __init__(self, A, B, B_dist, C=np.eye(12), C_dist=np.zeros((12, 3))):\n",
    "        self.x_hat = np.zeros((12, 1))\n",
    "        self.d_hat = np.zeros((3, 1))\n",
    "        self.A_sq = np.block([[A, B_dist],\n",
    "                              [np.zeros((3, 12)), np.eye(3)]])\n",
    "        self.B_sq = np.block([[B],\n",
    "                              [np.zeros((3, 4))]])\n",
    "        self.C_sq = np.block([C, C_dist])\n",
    "        eig = [0.5, 0.4, 0.3, -0.2, 0.5, 0.4, 0.3, -0.2, 0.5, 0.4, 0.3, -0.2, 0.3, 0.7, -0.5]\n",
    "        # ctrb_matrix = control.obsv(self.A_sq, self.C_sq)\n",
    "        # print(ctrb_matrix.shape)\n",
    "        # print(LA.matrix_rank(ctrb_matrix))\n",
    "        \n",
    "        self.L = control.place(self.A_sq.T, self.C_sq.T, eig).T\n",
    "\n",
    "    def update(self, u, y):\n",
    "        exd_state = np.block([[self.x_hat],\n",
    "                              [self.d_hat]])\n",
    "        exd_state = self.A_sq@exd_state + \\\n",
    "            self.B_sq@u.reshape(-1, 1) + \\\n",
    "            self.L@(y.reshape(-1, 1) - self.C_sq@exd_state)\n",
    "        self.x_hat = exd_state[:12]\n",
    "        self.d_hat = exd_state[12:]\n",
    "        \n"
   ]
  },
  {
   "cell_type": "code",
   "execution_count": 5,
   "metadata": {},
   "outputs": [],
   "source": [
    "B_dist = np.block([[np.zeros((3, 3))],\n",
    "                   [np.eye(3)],\n",
    "                   [np.zeros((3, 3))],\n",
    "                   [np.zeros((3, 3))]])\n",
    "\n",
    "# vel_observer = Dist_Observer(Ad, Bd, B_dist, Cd)\n"
   ]
  },
  {
   "cell_type": "code",
   "execution_count": 6,
   "metadata": {},
   "outputs": [],
   "source": [
    "import scipy.io\n",
    "\n",
    "file_path = 'saveL.mat'\n",
    "mat = scipy.io.loadmat(file_path)\n",
    "data = mat['L']"
   ]
  },
  {
   "cell_type": "code",
   "execution_count": 4,
   "metadata": {},
   "outputs": [
    {
     "data": {
      "text/plain": [
       "0.039240000000000004"
      ]
     },
     "execution_count": 4,
     "metadata": {},
     "output_type": "execute_result"
    }
   ],
   "source": [
    "0.2*9.81*0.02\n"
   ]
  },
  {
   "cell_type": "code",
   "execution_count": 6,
   "metadata": {},
   "outputs": [],
   "source": [
    "import csv\n",
    "file = open(\"data.csv\", \"r\")\n",
    "csvreader = csv.reader(file)\n",
    "rows = [row for row in csvreader]\n"
   ]
  },
  {
   "cell_type": "code",
   "execution_count": 24,
   "metadata": {},
   "outputs": [
    {
     "data": {
      "image/png": "[encoded data removed]",
      "text/plain": [
       "<Figure size 432x288 with 1 Axes>"
      ]
     },
     "metadata": {
      "needs_background": "light"
     },
     "output_type": "display_data"
    }
   ],
   "source": [
    "import pandas as pd\n",
    "import matplotlib.pyplot as plt\n",
    "import numpy as np\n",
    "data = pd.read_csv('data.csv', header=None)\n",
    "data = data.T\n",
    "N1_real = data.iloc[:, 0].to_list()\n",
    "N1_des = data.iloc[:, 1].to_list()\n",
    "N5_real = data.iloc[:, 2].to_list()\n",
    "N10_real = data.iloc[:, 4].to_list()\n",
    "N15_real = data.iloc[:, 6].to_list()\n",
    "t = np.arange(0, 10, 0.01)\n",
    "\n",
    "plt.plot(t, N1_real, label=\"N=1\")\n",
    "plt.plot(t, N5_real, label=\"N=5\")\n",
    "plt.plot(t, N10_real, label=\"N=10\")\n",
    "# plt.plot(t, N10_des, label=\"N10_des\")\n",
    "plt.plot(t, N15_real, label=\"N=15\")\n",
    "# plt.plot(t, N15_des, label=\"N15_des\")\n",
    "plt.plot(t, N1_des, '--', label=\"reference\")\n",
    "\n",
    "plt.xlabel('time')\n",
    "plt.ylabel('tracking performance in x-axis')\n",
    "plt.legend()\n",
    "plt.show()"
   ]
  }
 ],
 "metadata": {
  "interpreter": {
   "hash": "96e0b108776c78b5cda65fd4c3038f220ed3a169480f8d80518a0bf08276259c"
  },
  "kernelspec": {
   "display_name": "Python 3.9.11 ('robo_base')",
   "language": "python",
   "name": "python3"
  },
  "language_info": {
   "codemirror_mode": {
    "name": "ipython",
    "version": 3
   },
   "file_extension": ".py",
   "mimetype": "text/x-python",
   "name": "python",
   "nbconvert_exporter": "python",
   "pygments_lexer": "ipython3",
   "version": "3.9.11"
  },
  "orig_nbformat": 4
 },
 "nbformat": 4,
 "nbformat_minor": 2
}
