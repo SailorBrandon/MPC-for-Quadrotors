{
 "cells": [
  {
   "cell_type": "code",
   "execution_count": 2,
   "metadata": {},
   "outputs": [],
   "source": [
    "import control\n",
    "import numpy as np\n",
    "import numpy.linalg as LA"
   ]
  },
  {
   "cell_type": "code",
   "execution_count": 7,
   "metadata": {},
   "outputs": [],
   "source": [
    "g = 9.81\n",
    "mass = 0.030\n",
    "Ixx = 1.43e-5\n",
    "Iyy = 1.43e-5\n",
    "Izz = 2.89e-5\n",
    "Ac = np.array([[0, 0, 0, 1, 0, 0, 0, 0, 0, 0, 0, 0],\n",
    "                [0, 0, 0, 0, 1, 0, 0, 0, 0, 0, 0, 0],\n",
    "                [0, 0, 0, 0, 0, 1, 0, 0, 0, 0, 0, 0],\n",
    "                [0, 0, 0, 0, 0, 0, 0, g, 0, 0, 0, 0],\n",
    "                [0, 0, 0, 0, 0, 0, (-g), 0, 0, 0, 0, 0],\n",
    "                [0, 0, 0, 0, 0, 0, 0, 0, 0, 0, 0, 0],\n",
    "                [0, 0, 0, 0, 0, 0, 0, 0, 0, 1, 0, 0],\n",
    "                [0, 0, 0, 0, 0, 0, 0, 0, 0, 0, 1, 0],\n",
    "                [0, 0, 0, 0, 0, 0, 0, 0, 0, 0, 0, 1],\n",
    "                [0, 0, 0, 0, 0, 0, 0, 0, 0, 0, 0, 0],\n",
    "                [0, 0, 0, 0, 0, 0, 0, 0, 0, 0, 0, 0],\n",
    "                [0, 0, 0, 0, 0, 0, 0, 0, 0, 0, 0, 0], ])\n",
    "Bc = np.array([[0, 0, 0, 0],\n",
    "                [0, 0, 0, 0],\n",
    "                [0, 0, 0, 0],\n",
    "                [0, 0, 0, 0],\n",
    "                [0, 0, 0, 0],\n",
    "                [1/mass, 0, 0, 0],\n",
    "                [0, 0, 0, 0],\n",
    "                [0, 0, 0, 0],\n",
    "                [0, 0, 0, 0],\n",
    "                [0, 1/Ixx, 0, 0],\n",
    "                [0, 0, 1/Iyy, 0],\n",
    "                [0, 0, 0, 1/Izz]])\n",
    "\n",
    "C_obs = np.zeros((12, 12))\n",
    "C_obs[:3, :3] = np.eye(3)\n",
    "C_obs[6:9, 6:9] = np.eye(3)\n",
    "\n",
    "Cc = C_obs\n",
    "Dc = np.zeros((12, 4))\n",
    "sysc = control.ss(Ac, Bc, Cc, Dc)\n",
    "# Discretization\n",
    "dt = 0.02\n",
    "sysd = control.sample_system(sysc, dt, method='bilinear')\n",
    "Ad, Bd, Cd =  sysd.A, sysd.B, sysd.C"
   ]
  },
  {
   "cell_type": "code",
   "execution_count": 44,
   "metadata": {},
   "outputs": [],
   "source": [
    "class Dist_Observer:\n",
    "    def __init__(self, A, B, B_dist, C=np.eye(12), C_dist=np.zeros((12, 3))):\n",
    "        self.x_hat = np.zeros((12, 1))\n",
    "        self.d_hat = np.zeros((3, 1))\n",
    "        self.A_sq = np.block([[A, B_dist],\n",
    "                              [np.zeros((3, 12)), np.eye(3)]])\n",
    "        self.B_sq = np.block([[B],\n",
    "                              [np.zeros((3, 4))]])\n",
    "        self.C_sq = np.block([C, C_dist])\n",
    "        eig = [-0.2 for i in range(6)] + [0.2 for i in range(3)] + [0.3 for i in range(3)] + [-0.3 for i in range(3)]\n",
    "        # ctrb_matrix = control.obsv(self.A_sq, self.C_sq)\n",
    "        # print(ctrb_matrix.shape)\n",
    "        # print(LA.matrix_rank(ctrb_matrix))\n",
    "        \n",
    "        self.L = control.place(self.A_sq.T, self.C_sq.T, eig, ).T\n",
    "\n",
    "    def update(self, u, y):\n",
    "        exd_state = np.block([[self.x_hat],\n",
    "                              [self.d_hat]])\n",
    "        exd_state = self.A_sq@exd_state + \\\n",
    "            self.B_sq@u.reshape(-1, 1) + \\\n",
    "            self.L@(y.reshape(-1, 1) - self.C_sq@exd_state)\n",
    "        self.x_hat = exd_state[:12]\n",
    "        self.d_hat = exd_state[12:]\n",
    "        \n"
   ]
  },
  {
   "cell_type": "code",
   "execution_count": 45,
   "metadata": {},
   "outputs": [
    {
     "name": "stdout",
     "output_type": "stream",
     "text": [
      "(180, 15)\n",
      "15\n"
     ]
    }
   ],
   "source": [
    "B_dist = np.block([[np.zeros((3, 3))],\n",
    "                   [np.eye(3)],\n",
    "                   [np.zeros((3, 3))],\n",
    "                   [np.zeros((3, 3))]])\n",
    "\n",
    "vel_observer = Dist_Observer(Ad, Bd, B_dist, Cd)\n"
   ]
  }
 ],
 "metadata": {
  "interpreter": {
   "hash": "96e0b108776c78b5cda65fd4c3038f220ed3a169480f8d80518a0bf08276259c"
  },
  "kernelspec": {
   "display_name": "Python 3.9.11 ('robo_base')",
   "language": "python",
   "name": "python3"
  },
  "language_info": {
   "codemirror_mode": {
    "name": "ipython",
    "version": 3
   },
   "file_extension": ".py",
   "mimetype": "text/x-python",
   "name": "python",
   "nbconvert_exporter": "python",
   "pygments_lexer": "ipython3",
   "version": "3.9.11"
  },
  "orig_nbformat": 4
 },
 "nbformat": 4,
 "nbformat_minor": 2
}
