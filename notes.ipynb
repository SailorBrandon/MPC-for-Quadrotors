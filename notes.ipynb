{
 "cells": [
  {
   "cell_type": "code",
   "execution_count": 2,
   "metadata": {},
   "outputs": [],
   "source": [
    "import control\n",
    "import numpy as np\n",
    "import numpy.linalg as LA"
   ]
  },
  {
   "cell_type": "code",
   "execution_count": 7,
   "metadata": {},
   "outputs": [],
   "source": [
    "g = 9.81\n",
    "mass = 0.030\n",
    "Ixx = 1.43e-5\n",
    "Iyy = 1.43e-5\n",
    "Izz = 2.89e-5\n",
    "Ac = np.array([[0, 0, 0, 1, 0, 0, 0, 0, 0, 0, 0, 0],\n",
    "                [0, 0, 0, 0, 1, 0, 0, 0, 0, 0, 0, 0],\n",
    "                [0, 0, 0, 0, 0, 1, 0, 0, 0, 0, 0, 0],\n",
    "                [0, 0, 0, 0, 0, 0, 0, g, 0, 0, 0, 0],\n",
    "                [0, 0, 0, 0, 0, 0, (-g), 0, 0, 0, 0, 0],\n",
    "                [0, 0, 0, 0, 0, 0, 0, 0, 0, 0, 0, 0],\n",
    "                [0, 0, 0, 0, 0, 0, 0, 0, 0, 1, 0, 0],\n",
    "                [0, 0, 0, 0, 0, 0, 0, 0, 0, 0, 1, 0],\n",
    "                [0, 0, 0, 0, 0, 0, 0, 0, 0, 0, 0, 1],\n",
    "                [0, 0, 0, 0, 0, 0, 0, 0, 0, 0, 0, 0],\n",
    "                [0, 0, 0, 0, 0, 0, 0, 0, 0, 0, 0, 0],\n",
    "                [0, 0, 0, 0, 0, 0, 0, 0, 0, 0, 0, 0], ])\n",
    "Bc = np.array([[0, 0, 0, 0],\n",
    "                [0, 0, 0, 0],\n",
    "                [0, 0, 0, 0],\n",
    "                [0, 0, 0, 0],\n",
    "                [0, 0, 0, 0],\n",
    "                [1/mass, 0, 0, 0],\n",
    "                [0, 0, 0, 0],\n",
    "                [0, 0, 0, 0],\n",
    "                [0, 0, 0, 0],\n",
    "                [0, 1/Ixx, 0, 0],\n",
    "                [0, 0, 1/Iyy, 0],\n",
    "                [0, 0, 0, 1/Izz]])\n",
    "\n",
    "C_obs = np.zeros((12, 12))\n",
    "C_obs[:3, :3] = np.eye(3)\n",
    "C_obs[6:9, 6:9] = np.eye(3)\n",
    "\n",
    "Cc = C_obs\n",
    "Dc = np.zeros((12, 4))\n",
    "sysc = control.ss(Ac, Bc, Cc, Dc)\n",
    "# Discretization\n",
    "dt = 0.02\n",
    "sysd = control.sample_system(sysc, dt, method='bilinear')\n",
    "Ad, Bd, Cd =  sysd.A, sysd.B, sysd.C"
   ]
  },
  {
   "cell_type": "code",
   "execution_count": 34,
   "metadata": {},
   "outputs": [],
   "source": [
    "class Dist_Observer:\n",
    "    def __init__(self, A, B, B_dist, C=np.eye(12), C_dist=np.zeros((12, 3))):\n",
    "        self.x_hat = np.zeros((12, 1))\n",
    "        self.d_hat = np.zeros((3, 1))\n",
    "        self.A_sq = np.block([[A, B_dist],\n",
    "                              [np.zeros((3, 12)), np.eye(3)]])\n",
    "        self.B_sq = np.block([[B],\n",
    "                              [np.zeros((3, 4))]])\n",
    "        self.C_sq = np.block([C, C_dist])\n",
    "        eig = [-0.2 for i in range(6)] + [0.2 for i in range(3)] + [0.3 for i in range(3)] + [-0.3 for i in range(3)]\n",
    "        # ctrb_matrix = control.ctrb(self.A_sq.T, self.C_sq.T)\n",
    "        # print(ctrb_matrix.shape)\n",
    "        # # print(LA.matrix_rank())\n",
    "        \n",
    "        self.L = control.place(self.A_sq.T, self.C_sq.T, eig).T\n",
    "\n",
    "    def update(self, u, y):\n",
    "        exd_state = np.block([[self.x_hat],\n",
    "                              [self.d_hat]])\n",
    "        exd_state = self.A_sq@exd_state + \\\n",
    "            self.B_sq@u.reshape(-1, 1) + \\\n",
    "            self.L@(y.reshape(-1, 1) - self.C_sq@exd_state)\n",
    "        self.x_hat = exd_state[:12]\n",
    "        self.d_hat = exd_state[12:]\n",
    "        \n"
   ]
  },
  {
   "cell_type": "code",
   "execution_count": 35,
   "metadata": {},
   "outputs": [
    {
     "name": "stderr",
     "output_type": "stream",
     "text": [
      "/home/shaohang/anaconda3/envs/robo_base/lib/python3.9/site-packages/scipy/signal/_ltisys.py:3358: UserWarning: Convergence was not reached after maxiter iterations.\n",
      "You asked for a relative tolerance of 0.001000 we got 1.000000\n",
      "  warnings.warn(err_msg)\n"
     ]
    },
    {
     "ename": "ValueError",
     "evalue": "The poles you've chosen can't be placed. Check the controllability matrix and try another set of poles",
     "output_type": "error",
     "traceback": [
      "\u001b[0;31m---------------------------------------------------------------------------\u001b[0m",
      "\u001b[0;31mLinAlgError\u001b[0m                               Traceback (most recent call last)",
      "File \u001b[0;32m~/anaconda3/envs/robo_base/lib/python3.9/site-packages/scipy/signal/_ltisys.py:3380\u001b[0m, in \u001b[0;36mplace_poles\u001b[0;34m(A, B, poles, method, rtol, maxiter)\u001b[0m\n\u001b[1;32m   <a href='file:///home/shaohang/anaconda3/envs/robo_base/lib/python3.9/site-packages/scipy/signal/_ltisys.py?line=3377'>3378</a>\u001b[0m     m \u001b[39m=\u001b[39m np\u001b[39m.\u001b[39mlinalg\u001b[39m.\u001b[39msolve(transfer_matrix\u001b[39m.\u001b[39mT, np\u001b[39m.\u001b[39mdot(np\u001b[39m.\u001b[39mdiag(poles),\n\u001b[1;32m   <a href='file:///home/shaohang/anaconda3/envs/robo_base/lib/python3.9/site-packages/scipy/signal/_ltisys.py?line=3378'>3379</a>\u001b[0m                                                   transfer_matrix\u001b[39m.\u001b[39mT))\u001b[39m.\u001b[39mT\n\u001b[0;32m-> <a href='file:///home/shaohang/anaconda3/envs/robo_base/lib/python3.9/site-packages/scipy/signal/_ltisys.py?line=3379'>3380</a>\u001b[0m     gain_matrix \u001b[39m=\u001b[39m np\u001b[39m.\u001b[39;49mlinalg\u001b[39m.\u001b[39;49msolve(z, np\u001b[39m.\u001b[39;49mdot(u0\u001b[39m.\u001b[39;49mT, m\u001b[39m-\u001b[39;49mA))\n\u001b[1;32m   <a href='file:///home/shaohang/anaconda3/envs/robo_base/lib/python3.9/site-packages/scipy/signal/_ltisys.py?line=3380'>3381</a>\u001b[0m \u001b[39mexcept\u001b[39;00m np\u001b[39m.\u001b[39mlinalg\u001b[39m.\u001b[39mLinAlgError \u001b[39mas\u001b[39;00m e:\n",
      "File \u001b[0;32m<__array_function__ internals>:5\u001b[0m, in \u001b[0;36msolve\u001b[0;34m(*args, **kwargs)\u001b[0m\n",
      "File \u001b[0;32m~/anaconda3/envs/robo_base/lib/python3.9/site-packages/numpy/linalg/linalg.py:380\u001b[0m, in \u001b[0;36msolve\u001b[0;34m(a, b)\u001b[0m\n\u001b[1;32m    <a href='file:///home/shaohang/anaconda3/envs/robo_base/lib/python3.9/site-packages/numpy/linalg/linalg.py?line=378'>379</a>\u001b[0m _assert_stacked_2d(a)\n\u001b[0;32m--> <a href='file:///home/shaohang/anaconda3/envs/robo_base/lib/python3.9/site-packages/numpy/linalg/linalg.py?line=379'>380</a>\u001b[0m _assert_stacked_square(a)\n\u001b[1;32m    <a href='file:///home/shaohang/anaconda3/envs/robo_base/lib/python3.9/site-packages/numpy/linalg/linalg.py?line=380'>381</a>\u001b[0m b, wrap \u001b[39m=\u001b[39m _makearray(b)\n",
      "File \u001b[0;32m~/anaconda3/envs/robo_base/lib/python3.9/site-packages/numpy/linalg/linalg.py:203\u001b[0m, in \u001b[0;36m_assert_stacked_square\u001b[0;34m(*arrays)\u001b[0m\n\u001b[1;32m    <a href='file:///home/shaohang/anaconda3/envs/robo_base/lib/python3.9/site-packages/numpy/linalg/linalg.py?line=201'>202</a>\u001b[0m \u001b[39mif\u001b[39;00m m \u001b[39m!=\u001b[39m n:\n\u001b[0;32m--> <a href='file:///home/shaohang/anaconda3/envs/robo_base/lib/python3.9/site-packages/numpy/linalg/linalg.py?line=202'>203</a>\u001b[0m     \u001b[39mraise\u001b[39;00m LinAlgError(\u001b[39m'\u001b[39m\u001b[39mLast 2 dimensions of the array must be square\u001b[39m\u001b[39m'\u001b[39m)\n",
      "\u001b[0;31mLinAlgError\u001b[0m: Last 2 dimensions of the array must be square",
      "\nThe above exception was the direct cause of the following exception:\n",
      "\u001b[0;31mValueError\u001b[0m                                Traceback (most recent call last)",
      "\u001b[1;32m/home/shaohang/Study/MPC-for-Quadrotors/notes.ipynb Cell 4'\u001b[0m in \u001b[0;36m<cell line: 6>\u001b[0;34m()\u001b[0m\n\u001b[1;32m      <a href='vscode-notebook-cell:/home/shaohang/Study/MPC-for-Quadrotors/notes.ipynb#ch0000003?line=0'>1</a>\u001b[0m B_dist \u001b[39m=\u001b[39m np\u001b[39m.\u001b[39mblock([[np\u001b[39m.\u001b[39mzeros((\u001b[39m3\u001b[39m, \u001b[39m3\u001b[39m))],\n\u001b[1;32m      <a href='vscode-notebook-cell:/home/shaohang/Study/MPC-for-Quadrotors/notes.ipynb#ch0000003?line=1'>2</a>\u001b[0m                    [np\u001b[39m.\u001b[39meye(\u001b[39m3\u001b[39m)],\n\u001b[1;32m      <a href='vscode-notebook-cell:/home/shaohang/Study/MPC-for-Quadrotors/notes.ipynb#ch0000003?line=2'>3</a>\u001b[0m                    [np\u001b[39m.\u001b[39mzeros((\u001b[39m3\u001b[39m, \u001b[39m3\u001b[39m))],\n\u001b[1;32m      <a href='vscode-notebook-cell:/home/shaohang/Study/MPC-for-Quadrotors/notes.ipynb#ch0000003?line=3'>4</a>\u001b[0m                    [np\u001b[39m.\u001b[39mzeros((\u001b[39m3\u001b[39m, \u001b[39m3\u001b[39m))]])\n\u001b[0;32m----> <a href='vscode-notebook-cell:/home/shaohang/Study/MPC-for-Quadrotors/notes.ipynb#ch0000003?line=5'>6</a>\u001b[0m vel_observer \u001b[39m=\u001b[39m Dist_Observer(Ad, Bd, B_dist, Cd)\n",
      "\u001b[1;32m/home/shaohang/Study/MPC-for-Quadrotors/notes.ipynb Cell 3'\u001b[0m in \u001b[0;36mDist_Observer.__init__\u001b[0;34m(self, A, B, B_dist, C, C_dist)\u001b[0m\n\u001b[1;32m     <a href='vscode-notebook-cell:/home/shaohang/Study/MPC-for-Quadrotors/notes.ipynb#ch0000002?line=9'>10</a>\u001b[0m eig \u001b[39m=\u001b[39m [\u001b[39m-\u001b[39m\u001b[39m0.2\u001b[39m \u001b[39mfor\u001b[39;00m i \u001b[39min\u001b[39;00m \u001b[39mrange\u001b[39m(\u001b[39m6\u001b[39m)] \u001b[39m+\u001b[39m [\u001b[39m0.2\u001b[39m \u001b[39mfor\u001b[39;00m i \u001b[39min\u001b[39;00m \u001b[39mrange\u001b[39m(\u001b[39m3\u001b[39m)] \u001b[39m+\u001b[39m [\u001b[39m0.3\u001b[39m \u001b[39mfor\u001b[39;00m i \u001b[39min\u001b[39;00m \u001b[39mrange\u001b[39m(\u001b[39m3\u001b[39m)] \u001b[39m+\u001b[39m [\u001b[39m-\u001b[39m\u001b[39m0.3\u001b[39m \u001b[39mfor\u001b[39;00m i \u001b[39min\u001b[39;00m \u001b[39mrange\u001b[39m(\u001b[39m3\u001b[39m)]\n\u001b[1;32m     <a href='vscode-notebook-cell:/home/shaohang/Study/MPC-for-Quadrotors/notes.ipynb#ch0000002?line=10'>11</a>\u001b[0m \u001b[39m# ctrb_matrix = control.ctrb(self.A_sq.T, self.C_sq.T)\u001b[39;00m\n\u001b[1;32m     <a href='vscode-notebook-cell:/home/shaohang/Study/MPC-for-Quadrotors/notes.ipynb#ch0000002?line=11'>12</a>\u001b[0m \u001b[39m# print(ctrb_matrix.shape)\u001b[39;00m\n\u001b[1;32m     <a href='vscode-notebook-cell:/home/shaohang/Study/MPC-for-Quadrotors/notes.ipynb#ch0000002?line=12'>13</a>\u001b[0m \u001b[39m# # print(LA.matrix_rank())\u001b[39;00m\n\u001b[0;32m---> <a href='vscode-notebook-cell:/home/shaohang/Study/MPC-for-Quadrotors/notes.ipynb#ch0000002?line=14'>15</a>\u001b[0m \u001b[39mself\u001b[39m\u001b[39m.\u001b[39mL \u001b[39m=\u001b[39m control\u001b[39m.\u001b[39;49mplace(\u001b[39mself\u001b[39;49m\u001b[39m.\u001b[39;49mA_sq\u001b[39m.\u001b[39;49mT, \u001b[39mself\u001b[39;49m\u001b[39m.\u001b[39;49mC_sq\u001b[39m.\u001b[39;49mT, eig)\u001b[39m.\u001b[39mT\n",
      "File \u001b[0;32m~/anaconda3/envs/robo_base/lib/python3.9/site-packages/control/statefbk.py:146\u001b[0m, in \u001b[0;36mplace\u001b[0;34m(A, B, p)\u001b[0m\n\u001b[1;32m    <a href='file:///home/shaohang/anaconda3/envs/robo_base/lib/python3.9/site-packages/control/statefbk.py?line=142'>143</a>\u001b[0m \u001b[39m# Convert desired poles to numpy array\u001b[39;00m\n\u001b[1;32m    <a href='file:///home/shaohang/anaconda3/envs/robo_base/lib/python3.9/site-packages/control/statefbk.py?line=143'>144</a>\u001b[0m placed_eigs \u001b[39m=\u001b[39m np\u001b[39m.\u001b[39matleast_1d(np\u001b[39m.\u001b[39msqueeze(np\u001b[39m.\u001b[39masarray(p)))\n\u001b[0;32m--> <a href='file:///home/shaohang/anaconda3/envs/robo_base/lib/python3.9/site-packages/control/statefbk.py?line=145'>146</a>\u001b[0m result \u001b[39m=\u001b[39m place_poles(A_mat, B_mat, placed_eigs, method\u001b[39m=\u001b[39;49m\u001b[39m'\u001b[39;49m\u001b[39mYT\u001b[39;49m\u001b[39m'\u001b[39;49m)\n\u001b[1;32m    <a href='file:///home/shaohang/anaconda3/envs/robo_base/lib/python3.9/site-packages/control/statefbk.py?line=146'>147</a>\u001b[0m K \u001b[39m=\u001b[39m result\u001b[39m.\u001b[39mgain_matrix\n\u001b[1;32m    <a href='file:///home/shaohang/anaconda3/envs/robo_base/lib/python3.9/site-packages/control/statefbk.py?line=147'>148</a>\u001b[0m \u001b[39mreturn\u001b[39;00m _ssmatrix(K)\n",
      "File \u001b[0;32m~/anaconda3/envs/robo_base/lib/python3.9/site-packages/scipy/signal/_ltisys.py:3382\u001b[0m, in \u001b[0;36mplace_poles\u001b[0;34m(A, B, poles, method, rtol, maxiter)\u001b[0m\n\u001b[1;32m   <a href='file:///home/shaohang/anaconda3/envs/robo_base/lib/python3.9/site-packages/scipy/signal/_ltisys.py?line=3379'>3380</a>\u001b[0m         gain_matrix \u001b[39m=\u001b[39m np\u001b[39m.\u001b[39mlinalg\u001b[39m.\u001b[39msolve(z, np\u001b[39m.\u001b[39mdot(u0\u001b[39m.\u001b[39mT, m\u001b[39m-\u001b[39mA))\n\u001b[1;32m   <a href='file:///home/shaohang/anaconda3/envs/robo_base/lib/python3.9/site-packages/scipy/signal/_ltisys.py?line=3380'>3381</a>\u001b[0m     \u001b[39mexcept\u001b[39;00m np\u001b[39m.\u001b[39mlinalg\u001b[39m.\u001b[39mLinAlgError \u001b[39mas\u001b[39;00m e:\n\u001b[0;32m-> <a href='file:///home/shaohang/anaconda3/envs/robo_base/lib/python3.9/site-packages/scipy/signal/_ltisys.py?line=3381'>3382</a>\u001b[0m         \u001b[39mraise\u001b[39;00m \u001b[39mValueError\u001b[39;00m(\u001b[39m\"\u001b[39m\u001b[39mThe poles you\u001b[39m\u001b[39m'\u001b[39m\u001b[39mve chosen can\u001b[39m\u001b[39m'\u001b[39m\u001b[39mt be placed. \u001b[39m\u001b[39m\"\u001b[39m\n\u001b[1;32m   <a href='file:///home/shaohang/anaconda3/envs/robo_base/lib/python3.9/site-packages/scipy/signal/_ltisys.py?line=3382'>3383</a>\u001b[0m                          \u001b[39m\"\u001b[39m\u001b[39mCheck the controllability matrix and try \u001b[39m\u001b[39m\"\u001b[39m\n\u001b[1;32m   <a href='file:///home/shaohang/anaconda3/envs/robo_base/lib/python3.9/site-packages/scipy/signal/_ltisys.py?line=3383'>3384</a>\u001b[0m                          \u001b[39m\"\u001b[39m\u001b[39manother set of poles\u001b[39m\u001b[39m\"\u001b[39m) \u001b[39mfrom\u001b[39;00m \u001b[39me\u001b[39;00m\n\u001b[1;32m   <a href='file:///home/shaohang/anaconda3/envs/robo_base/lib/python3.9/site-packages/scipy/signal/_ltisys.py?line=3385'>3386</a>\u001b[0m \u001b[39m# Beware: Kautsky solves A+BK but the usual form is A-BK\u001b[39;00m\n\u001b[1;32m   <a href='file:///home/shaohang/anaconda3/envs/robo_base/lib/python3.9/site-packages/scipy/signal/_ltisys.py?line=3386'>3387</a>\u001b[0m gain_matrix \u001b[39m=\u001b[39m \u001b[39m-\u001b[39mgain_matrix\n",
      "\u001b[0;31mValueError\u001b[0m: The poles you've chosen can't be placed. Check the controllability matrix and try another set of poles"
     ]
    }
   ],
   "source": [
    "B_dist = np.block([[np.zeros((3, 3))],\n",
    "                   [np.eye(3)],\n",
    "                   [np.zeros((3, 3))],\n",
    "                   [np.zeros((3, 3))]])\n",
    "\n",
    "vel_observer = Dist_Observer(Ad, Bd, B_dist, Cd)\n"
   ]
  }
 ],
 "metadata": {
  "interpreter": {
   "hash": "96e0b108776c78b5cda65fd4c3038f220ed3a169480f8d80518a0bf08276259c"
  },
  "kernelspec": {
   "display_name": "Python 3.9.11 ('robo_base')",
   "language": "python",
   "name": "python3"
  },
  "language_info": {
   "codemirror_mode": {
    "name": "ipython",
    "version": 3
   },
   "file_extension": ".py",
   "mimetype": "text/x-python",
   "name": "python",
   "nbconvert_exporter": "python",
   "pygments_lexer": "ipython3",
   "version": "3.9.11"
  },
  "orig_nbformat": 4
 },
 "nbformat": 4,
 "nbformat_minor": 2
}
