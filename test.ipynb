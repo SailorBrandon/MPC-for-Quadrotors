{
 "cells": [
  {
   "cell_type": "code",
   "execution_count": 7,
   "metadata": {},
   "outputs": [],
   "source": [
    "from scipy.signal import cont2discrete, lti, dlti, dstep\n",
    "import numpy as np\n",
    "import control"
   ]
  },
  {
   "cell_type": "code",
   "execution_count": 24,
   "metadata": {},
   "outputs": [],
   "source": [
    "A = np.array([[2, 1],\n",
    "              [0, 1]])\n",
    "B = np.array([[2],\n",
    "              [1]])\n",
    "C = np.eye(2)\n",
    "D = np.zeros((2, 1))\n",
    "sysc = control.ss(A, B, C, D)\n",
    "sysd = control.sample_system(sysc, 0.5, method='bilinear')"
   ]
  },
  {
   "cell_type": "code",
   "execution_count": 5,
   "metadata": {},
   "outputs": [
    {
     "name": "stdout",
     "output_type": "stream",
     "text": [
      "1\n"
     ]
    }
   ],
   "source": [
    "class A:\n",
    "    def __init__(self, a):\n",
    "        self.a = a\n",
    "        \n",
    "class B(A):\n",
    "    def __init__(self, b):\n",
    "        super().__init__(b)\n",
    "        \n",
    "test = B(1)\n",
    "print(test.a)"
   ]
  },
  {
   "cell_type": "code",
   "execution_count": 4,
   "metadata": {},
   "outputs": [
    {
     "name": "stdout",
     "output_type": "stream",
     "text": [
      "Rahul\n",
      "886012\n"
     ]
    }
   ],
   "source": [
    "# Python code to demonstrate how parent constructors\n",
    "# are called.\n",
    "\n",
    "# parent class\n",
    "class Person( object ):\n",
    "\n",
    "\t\t# __init__ is known as the constructor\t\t\n",
    "\t\tdef __init__(self, name, idnumber):\n",
    "\t\t\t\tself.name = name\n",
    "\t\t\t\tself.idnumber = idnumber\n",
    "\t\tdef display(self):\n",
    "\t\t\t\tprint(self.name)\n",
    "\t\t\t\tprint(self.idnumber)\n",
    "\n",
    "# child class\n",
    "class Employee( Person ):\t\t\n",
    "\t\tdef __init__(self, name, idnumber, salary, post):\n",
    "\t\t\t\tself.salary = salary\n",
    "\t\t\t\tself.post = post\n",
    "\n",
    "\t\t\t\t# invoking the __init__ of the parent class\n",
    "\t\t\t\tPerson.__init__(self, name, idnumber)\n",
    "\n",
    "\t\t\t\t\n",
    "# creation of an object variable or an instance\n",
    "a = Employee('Rahul', 886012, 200000, \"Intern\")\n",
    "\n",
    "# calling a function of the class Person using its instance\n",
    "a.display()\n"
   ]
  },
  {
   "cell_type": "code",
   "execution_count": 9,
   "metadata": {},
   "outputs": [
    {
     "data": {
      "text/plain": [
       "array(0)"
      ]
     },
     "execution_count": 9,
     "metadata": {},
     "output_type": "execute_result"
    }
   ],
   "source": [
    "a = np.array([1, 1])\n",
    "b = np.array([2, 2])\n",
    "np.cross(a, b)"
   ]
  }
 ],
 "metadata": {
  "interpreter": {
   "hash": "8dbe5368dda0a1c9b659b1df568614e25d4a8bbe1e3c06b31133aaaff8e2cfd5"
  },
  "kernelspec": {
   "display_name": "Python 3.7.11 ('cvBase')",
   "language": "python",
   "name": "python3"
  },
  "language_info": {
   "codemirror_mode": {
    "name": "ipython",
    "version": 3
   },
   "file_extension": ".py",
   "mimetype": "text/x-python",
   "name": "python",
   "nbconvert_exporter": "python",
   "pygments_lexer": "ipython3",
   "version": "3.8.11"
  },
  "orig_nbformat": 4
 },
 "nbformat": 4,
 "nbformat_minor": 2
}
