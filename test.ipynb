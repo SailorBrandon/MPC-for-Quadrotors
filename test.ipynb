{
 "cells": [
  {
   "cell_type": "code",
   "execution_count": 10,
   "metadata": {},
   "outputs": [],
   "source": [
    "from scipy.signal import cont2discrete, lti, dlti, dstep\n",
    "import numpy as np\n",
    "import control"
   ]
  },
  {
   "cell_type": "code",
   "execution_count": 24,
   "metadata": {},
   "outputs": [],
   "source": [
    "A = np.array([[2, 1],\n",
    "              [0, 1]])\n",
    "B = np.array([[2],\n",
    "              [1]])\n",
    "C = np.eye(2)\n",
    "D = np.zeros((2, 1))\n",
    "sysc = control.ss(A, B, C, D)\n",
    "sysd = control.sample_system(sysc, 0.5, method='bilinear')"
   ]
  },
  {
   "cell_type": "code",
   "execution_count": 3,
   "metadata": {},
   "outputs": [
    {
     "name": "stdout",
     "output_type": "stream",
     "text": [
      "x y\n"
     ]
    }
   ],
   "source": [
    "a = {'x':1, 'y':2}\n",
    "b,c = a\n",
    "print(b,c)"
   ]
  }
 ],
 "metadata": {
  "interpreter": {
   "hash": "8dbe5368dda0a1c9b659b1df568614e25d4a8bbe1e3c06b31133aaaff8e2cfd5"
  },
  "kernelspec": {
   "display_name": "Python 3.7.11 ('cvBase')",
   "language": "python",
   "name": "python3"
  },
  "language_info": {
   "codemirror_mode": {
    "name": "ipython",
    "version": 3
   },
   "file_extension": ".py",
   "mimetype": "text/x-python",
   "name": "python",
   "nbconvert_exporter": "python",
   "pygments_lexer": "ipython3",
   "version": "3.7.11"
  },
  "orig_nbformat": 4
 },
 "nbformat": 4,
 "nbformat_minor": 2
}
