{
 "cells": [
  {
   "cell_type": "markdown",
   "metadata": {},
   "source": [
    "### Description\n",
    "Value of parameters are recorded here."
   ]
  },
  {
   "cell_type": "code",
   "execution_count": null,
   "metadata": {},
   "outputs": [],
   "source": [
    "import numpy as np\n",
    "import control"
   ]
  },
  {
   "cell_type": "code",
   "execution_count": null,
   "metadata": {},
   "outputs": [],
   "source": [
    "subQ_pos = np.block([[1.2e5*np.eye(3), np.zeros((3, 3))],\n",
    "                        [np.zeros((3, 3)), 1e3*np.eye(3)]])\n",
    "subQ_ang = np.block([[5e2*np.eye(3), np.zeros((3, 3))],\n",
    "                        [np.zeros((3, 3)), 0e2*np.eye(3)]])\n",
    "Q = np.block([[subQ_pos, np.zeros((6, 6))],\n",
    "                    [np.zeros((6, 6)), subQ_ang]])\n",
    "N = 5\n",
    "R = 1e1*np.eye(4)"
   ]
  },
  {
   "cell_type": "code",
   "execution_count": null,
   "metadata": {},
   "outputs": [],
   "source": []
  }
 ],
 "metadata": {
  "interpreter": {
   "hash": "8dbe5368dda0a1c9b659b1df568614e25d4a8bbe1e3c06b31133aaaff8e2cfd5"
  },
  "kernelspec": {
   "display_name": "Python 3.7.11 ('cvBase')",
   "language": "python",
   "name": "python3"
  },
  "language_info": {
   "name": "python",
   "version": "3.7.11"
  },
  "orig_nbformat": 4
 },
 "nbformat": 4,
 "nbformat_minor": 2
}
