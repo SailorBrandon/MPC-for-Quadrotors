{
 "cells": [
  {
   "cell_type": "markdown",
   "metadata": {},
   "source": [
    "### Description\n",
    "Value of parameters are recorded here."
   ]
  },
  {
   "cell_type": "code",
   "execution_count": 4,
   "metadata": {},
   "outputs": [],
   "source": [
    "import numpy as np\n",
    "import control\n",
    "import scipy"
   ]
  },
  {
   "cell_type": "code",
   "execution_count": 2,
   "metadata": {},
   "outputs": [],
   "source": [
    "subQ_pos = np.block([[1.2e5*np.eye(3), np.zeros((3, 3))],\n",
    "                        [np.zeros((3, 3)), 1e3*np.eye(3)]])\n",
    "subQ_ang = np.block([[5e2*np.eye(3), np.zeros((3, 3))],\n",
    "                        [np.zeros((3, 3)), 0e2*np.eye(3)]])\n",
    "Q = np.block([[subQ_pos, np.zeros((6, 6))],\n",
    "                    [np.zeros((6, 6)), subQ_ang]])\n",
    "N = 5\n",
    "R = 1e1*np.eye(4)"
   ]
  },
  {
   "cell_type": "code",
   "execution_count": 5,
   "metadata": {},
   "outputs": [
    {
     "data": {
      "text/plain": [
       "array([[5. , 0. , 0. ],\n",
       "       [0. , 0.1, 0. ],\n",
       "       [0. , 0. , 1. ]])"
      ]
     },
     "execution_count": 5,
     "metadata": {},
     "output_type": "execute_result"
    }
   ],
   "source": [
    "Q = np.diag([5, 1e-1])\n",
    "R = np.eye(1)\n",
    "scipy.linalg.block_diag(Q,R)"
   ]
  }
 ],
 "metadata": {
  "interpreter": {
   "hash": "8dbe5368dda0a1c9b659b1df568614e25d4a8bbe1e3c06b31133aaaff8e2cfd5"
  },
  "kernelspec": {
   "display_name": "Python 3.7.11 ('cvBase')",
   "language": "python",
   "name": "python3"
  },
  "language_info": {
   "codemirror_mode": {
    "name": "ipython",
    "version": 3
   },
   "file_extension": ".py",
   "mimetype": "text/x-python",
   "name": "python",
   "nbconvert_exporter": "python",
   "pygments_lexer": "ipython3",
   "version": "3.9.7"
  },
  "orig_nbformat": 4
 },
 "nbformat": 4,
 "nbformat_minor": 2
}
